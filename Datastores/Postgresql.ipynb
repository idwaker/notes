{
 "cells": [
  {
   "cell_type": "markdown",
   "metadata": {},
   "source": [
    "# Postgresql\n",
    "---\n",
    "\n",
    "### Installation\n",
    "\n",
    "```sh\n",
    "$ sudo apt-get install postgresql postgresql-contrib\n",
    "```\n",
    "\n",
    "### Switching to postgres shell\n",
    "\n",
    "```sh\n",
    "$ sudo -u -i postgres\n",
    "$ psql\n",
    "postgres=# \\q\n",
    "```\n",
    "\n",
    "### Create new role\n",
    "\n",
    "```sh\n",
    "$ createuser --interactive\n",
    "```\n",
    "\n",
    "### Create new db\n",
    "\n",
    "```sh\n",
    "$ createdb project_name\n",
    "```\n",
    "\n",
    "### Set password\n",
    "\n",
    "```sql\n",
    "ALTER USER postgres PASSWORD 'myn3wp@ssw0rd';    \n",
    "```\n",
    "\n",
    "### Switching database\n",
    "\n",
    "```psql\n",
    "\\connect new_db\n",
    "```\n"
   ]
  },
  {
   "cell_type": "markdown",
   "metadata": {},
   "source": [
    "### psql commands\n",
    "---\n",
    "\n",
    "*List all databases*\n",
    "```psql\n",
    "postgres=# \\list\n",
    "```\n",
    "\n",
    "*List all tables in database*\n",
    "```psql\n",
    "postgres=# \\dt\n",
    "```\n",
    "\n",
    "*Exit from psql shell*\n",
    "```psql\n",
    "postgres=# \\q\n",
    "```\n",
    "\n",
    "*Dump data to file*\n",
    "```psql\n",
    "postgres=# \\o /tmp/output.csv\n",
    "```"
   ]
  },
  {
   "cell_type": "markdown",
   "metadata": {},
   "source": [
    "### Enable \"pgcrypto\" extension\n",
    "\n",
    "*Verify pgcrypto is available*\n",
    "\n",
    "```sql\n",
    "    SELECT * FROM pg_available_extensions WHERE name='pgcrypto';\n",
    "```\n",
    "\n",
    "*Enable to specific database.*\n",
    "\n",
    "```psql\n",
    "    create extension pgcrypto;\n",
    "```\n",
    "*__Note__: extension will be enabled to current database. Also requires superuser role.*\n",
    "\n",
    "*Check if it is enabled*\n",
    "\n",
    "```sql\n",
    "    SELECT gen_random_uuid();\n",
    "```"
   ]
  },
  {
   "cell_type": "code",
   "execution_count": null,
   "metadata": {
    "collapsed": true
   },
   "outputs": [],
   "source": []
  }
 ],
 "metadata": {
  "kernelspec": {
   "display_name": "Python 3",
   "language": "python",
   "name": "python3"
  },
  "language_info": {
   "codemirror_mode": {
    "name": "ipython",
    "version": 3
   },
   "file_extension": ".py",
   "mimetype": "text/x-python",
   "name": "python",
   "nbconvert_exporter": "python",
   "pygments_lexer": "ipython3",
   "version": "3.6.2"
  }
 },
 "nbformat": 4,
 "nbformat_minor": 2
}
