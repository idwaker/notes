{
 "cells": [
  {
   "cell_type": "markdown",
   "metadata": {},
   "source": [
    "# Crypto\n",
    "---\n",
    "\n",
    "## generating signature"
   ]
  },
  {
   "cell_type": "code",
   "execution_count": 1,
   "metadata": {
    "collapsed": true
   },
   "outputs": [],
   "source": [
    "import Crypto"
   ]
  },
  {
   "cell_type": "code",
   "execution_count": 2,
   "metadata": {
    "collapsed": true
   },
   "outputs": [],
   "source": [
    "from Crypto.Hash import SHA256"
   ]
  },
  {
   "cell_type": "code",
   "execution_count": 3,
   "metadata": {
    "collapsed": true
   },
   "outputs": [],
   "source": [
    "from Crypto.PublicKey import RSA"
   ]
  },
  {
   "cell_type": "code",
   "execution_count": 4,
   "metadata": {
    "collapsed": true
   },
   "outputs": [],
   "source": [
    "from Crypto import Random"
   ]
  },
  {
   "cell_type": "code",
   "execution_count": 5,
   "metadata": {
    "collapsed": true
   },
   "outputs": [],
   "source": [
    "key = RSA.generate(1024, Random.new().read)"
   ]
  },
  {
   "cell_type": "code",
   "execution_count": 6,
   "metadata": {},
   "outputs": [
    {
     "data": {
      "text/plain": [
       "<_RSAobj @0x7faab411f860 n(1024),e,d,p,q,u,private>"
      ]
     },
     "execution_count": 6,
     "metadata": {},
     "output_type": "execute_result"
    }
   ],
   "source": [
    "key"
   ]
  },
  {
   "cell_type": "code",
   "execution_count": 7,
   "metadata": {},
   "outputs": [
    {
     "data": {
      "text/plain": [
       "['__class__',\n",
       " '__delattr__',\n",
       " '__dict__',\n",
       " '__dir__',\n",
       " '__doc__',\n",
       " '__eq__',\n",
       " '__format__',\n",
       " '__ge__',\n",
       " '__getattr__',\n",
       " '__getattribute__',\n",
       " '__getstate__',\n",
       " '__gt__',\n",
       " '__hash__',\n",
       " '__init__',\n",
       " '__init_subclass__',\n",
       " '__le__',\n",
       " '__lt__',\n",
       " '__module__',\n",
       " '__ne__',\n",
       " '__new__',\n",
       " '__reduce__',\n",
       " '__reduce_ex__',\n",
       " '__repr__',\n",
       " '__setattr__',\n",
       " '__setstate__',\n",
       " '__sizeof__',\n",
       " '__str__',\n",
       " '__subclasshook__',\n",
       " '__weakref__',\n",
       " '_blind',\n",
       " '_decrypt',\n",
       " '_encrypt',\n",
       " '_randfunc',\n",
       " '_sign',\n",
       " '_unblind',\n",
       " '_verify',\n",
       " 'blind',\n",
       " 'can_blind',\n",
       " 'can_encrypt',\n",
       " 'can_sign',\n",
       " 'decrypt',\n",
       " 'encrypt',\n",
       " 'exportKey',\n",
       " 'has_private',\n",
       " 'implementation',\n",
       " 'key',\n",
       " 'keydata',\n",
       " 'publickey',\n",
       " 'sign',\n",
       " 'size',\n",
       " 'unblind',\n",
       " 'validate',\n",
       " 'verify']"
      ]
     },
     "execution_count": 7,
     "metadata": {},
     "output_type": "execute_result"
    }
   ],
   "source": [
    "dir(key)"
   ]
  },
  {
   "cell_type": "code",
   "execution_count": 8,
   "metadata": {},
   "outputs": [
    {
     "data": {
      "text/plain": [
       "<bound method _RSAobj.publickey of <_RSAobj @0x7faab411f860 n(1024),e,d,p,q,u,private>>"
      ]
     },
     "execution_count": 8,
     "metadata": {},
     "output_type": "execute_result"
    }
   ],
   "source": [
    "key.publickey"
   ]
  },
  {
   "cell_type": "code",
   "execution_count": 9,
   "metadata": {},
   "outputs": [
    {
     "data": {
      "text/plain": [
       "<_RSAobj @0x7faab410e0b8 n(1024),e>"
      ]
     },
     "execution_count": 9,
     "metadata": {},
     "output_type": "execute_result"
    }
   ],
   "source": [
    "key.publickey()"
   ]
  },
  {
   "cell_type": "code",
   "execution_count": 10,
   "metadata": {
    "collapsed": true
   },
   "outputs": [],
   "source": [
    "from base64 import urlsafe_b64encode, urlsafe_b64decode"
   ]
  },
  {
   "cell_type": "code",
   "execution_count": 11,
   "metadata": {
    "collapsed": true
   },
   "outputs": [],
   "source": [
    "import json"
   ]
  },
  {
   "cell_type": "code",
   "execution_count": 12,
   "metadata": {
    "collapsed": true
   },
   "outputs": [],
   "source": [
    "data = json.dumps({'test': 'This is some test data'})"
   ]
  },
  {
   "cell_type": "code",
   "execution_count": 13,
   "metadata": {},
   "outputs": [
    {
     "data": {
      "text/plain": [
       "'{\"test\": \"This is some test data\"}'"
      ]
     },
     "execution_count": 13,
     "metadata": {},
     "output_type": "execute_result"
    }
   ],
   "source": [
    "data"
   ]
  },
  {
   "cell_type": "code",
   "execution_count": 15,
   "metadata": {},
   "outputs": [],
   "source": [
    "encoded_data = urlsafe_b64encode(data.encode())"
   ]
  },
  {
   "cell_type": "code",
   "execution_count": 16,
   "metadata": {},
   "outputs": [
    {
     "data": {
      "text/plain": [
       "b'eyJ0ZXN0IjogIlRoaXMgaXMgc29tZSB0ZXN0IGRhdGEifQ=='"
      ]
     },
     "execution_count": 16,
     "metadata": {},
     "output_type": "execute_result"
    }
   ],
   "source": [
    "encoded_data"
   ]
  },
  {
   "cell_type": "code",
   "execution_count": 17,
   "metadata": {
    "collapsed": true
   },
   "outputs": [],
   "source": [
    "hash = SHA256.new()"
   ]
  },
  {
   "cell_type": "code",
   "execution_count": 18,
   "metadata": {},
   "outputs": [
    {
     "data": {
      "text/plain": [
       "<Crypto.Hash.SHA256.SHA256Hash at 0x7faab4059860>"
      ]
     },
     "execution_count": 18,
     "metadata": {},
     "output_type": "execute_result"
    }
   ],
   "source": [
    "hash"
   ]
  },
  {
   "cell_type": "code",
   "execution_count": 19,
   "metadata": {
    "collapsed": true
   },
   "outputs": [],
   "source": [
    "hash.update(encoded_data)"
   ]
  },
  {
   "cell_type": "code",
   "execution_count": 20,
   "metadata": {},
   "outputs": [
    {
     "data": {
      "text/plain": [
       "<Crypto.Hash.SHA256.SHA256Hash at 0x7faab4059860>"
      ]
     },
     "execution_count": 20,
     "metadata": {},
     "output_type": "execute_result"
    }
   ],
   "source": [
    "hash"
   ]
  },
  {
   "cell_type": "code",
   "execution_count": 21,
   "metadata": {
    "collapsed": true
   },
   "outputs": [],
   "source": [
    "from Crypto.Signature import PKCS1_v1_5"
   ]
  },
  {
   "cell_type": "code",
   "execution_count": 22,
   "metadata": {
    "collapsed": true
   },
   "outputs": [],
   "source": [
    "signer = PKCS1_v1_5.new(key)"
   ]
  },
  {
   "cell_type": "code",
   "execution_count": 23,
   "metadata": {
    "collapsed": true
   },
   "outputs": [],
   "source": [
    "sig = signer.sign(hash)"
   ]
  },
  {
   "cell_type": "code",
   "execution_count": 24,
   "metadata": {},
   "outputs": [
    {
     "data": {
      "text/plain": [
       "b'\\x9a\\x16\\x8e\\xd3\\xbbh\\xd9\\x81\\xa7*}\\xe6\\xba>H\\xfc\\xbe_q\\xad\\x19\\x86\\x1c\\x16\\xd65\\xd9\\xb5B*)}\\xee\\xad\\xf3\\x8a|\\xf8s\\xf8\\xfa\\x8b\\x98\\xdb\\xec~\\xcc\\xfe\\xa8\\x9a\\xdf\\xbb\\xdd\\xd4\\x10H\\x10\\xbf\\xf08|\\xde\\xc4\\xc2\\x80]\\xc4O\\xb1\\xcb\\xfc3\\rj\\xbf\\xa1hyZ\\xb3\\x98cj\\x7f\\x18|\\xd8\\xe2\\x8a\\xf2+\\x19_@\\xf3\\x97\\xc0\\xd5A\\xf9\\x04\\xd1gK\\xfcB\\x82\\x12(\\x82\\xadJ\\xc2\\xc1}\\xb4?\\x8d\\xce\\x9f\\x95e\\xe7\\xd1n\\x01m\\xb0'"
      ]
     },
     "execution_count": 24,
     "metadata": {},
     "output_type": "execute_result"
    }
   ],
   "source": [
    "sig"
   ]
  },
  {
   "cell_type": "code",
   "execution_count": 25,
   "metadata": {
    "collapsed": true
   },
   "outputs": [],
   "source": [
    "encoded_sig = urlsafe_b64encode(sig)"
   ]
  },
  {
   "cell_type": "code",
   "execution_count": 26,
   "metadata": {},
   "outputs": [
    {
     "data": {
      "text/plain": [
       "b'mhaO07to2YGnKn3muj5I_L5fca0ZhhwW1jXZtUIqKX3urfOKfPhz-PqLmNvsfsz-qJrfu93UEEgQv_A4fN7EwoBdxE-xy_wzDWq_oWh5WrOYY2p_GHzY4oryKxlfQPOXwNVB-QTRZ0v8QoISKIKtSsLBfbQ_jc6flWXn0W4BbbA='"
      ]
     },
     "execution_count": 26,
     "metadata": {},
     "output_type": "execute_result"
    }
   ],
   "source": [
    "encoded_sig"
   ]
  },
  {
   "cell_type": "code",
   "execution_count": null,
   "metadata": {
    "collapsed": true
   },
   "outputs": [],
   "source": []
  },
  {
   "cell_type": "markdown",
   "metadata": {},
   "source": [
    "## verifying signature"
   ]
  },
  {
   "cell_type": "code",
   "execution_count": 27,
   "metadata": {},
   "outputs": [
    {
     "data": {
      "text/plain": [
       "b'{\"test\": \"This is some test data\"}'"
      ]
     },
     "execution_count": 27,
     "metadata": {},
     "output_type": "execute_result"
    }
   ],
   "source": [
    "urlsafe_b64decode(encoded_data)"
   ]
  },
  {
   "cell_type": "code",
   "execution_count": 28,
   "metadata": {},
   "outputs": [
    {
     "data": {
      "text/plain": [
       "b'\\x9a\\x16\\x8e\\xd3\\xbbh\\xd9\\x81\\xa7*}\\xe6\\xba>H\\xfc\\xbe_q\\xad\\x19\\x86\\x1c\\x16\\xd65\\xd9\\xb5B*)}\\xee\\xad\\xf3\\x8a|\\xf8s\\xf8\\xfa\\x8b\\x98\\xdb\\xec~\\xcc\\xfe\\xa8\\x9a\\xdf\\xbb\\xdd\\xd4\\x10H\\x10\\xbf\\xf08|\\xde\\xc4\\xc2\\x80]\\xc4O\\xb1\\xcb\\xfc3\\rj\\xbf\\xa1hyZ\\xb3\\x98cj\\x7f\\x18|\\xd8\\xe2\\x8a\\xf2+\\x19_@\\xf3\\x97\\xc0\\xd5A\\xf9\\x04\\xd1gK\\xfcB\\x82\\x12(\\x82\\xadJ\\xc2\\xc1}\\xb4?\\x8d\\xce\\x9f\\x95e\\xe7\\xd1n\\x01m\\xb0'"
      ]
     },
     "execution_count": 28,
     "metadata": {},
     "output_type": "execute_result"
    }
   ],
   "source": [
    "urlsafe_b64decode(encoded_sig)"
   ]
  },
  {
   "cell_type": "code",
   "execution_count": 29,
   "metadata": {},
   "outputs": [
    {
     "data": {
      "text/plain": [
       "True"
      ]
     },
     "execution_count": 29,
     "metadata": {},
     "output_type": "execute_result"
    }
   ],
   "source": [
    "signer.verify(hash, urlsafe_b64decode(encoded_sig))"
   ]
  },
  {
   "cell_type": "code",
   "execution_count": null,
   "metadata": {
    "collapsed": true
   },
   "outputs": [],
   "source": []
  },
  {
   "cell_type": "markdown",
   "metadata": {},
   "source": [
    "**generating random bytes**"
   ]
  },
  {
   "cell_type": "code",
   "execution_count": 30,
   "metadata": {},
   "outputs": [
    {
     "data": {
      "text/plain": [
       "b'i\\x16\\xfc\\xa3\\xc8\\xbc \\xa3\\x8b\\x82\\x1c\\xdc\\x03\\xcc\\xcbG\\x1a\\xfa\\xa0\\xf0l^\\x0b\\x15\\x8e\\xdbYO\\xa63s)'"
      ]
     },
     "execution_count": 30,
     "metadata": {},
     "output_type": "execute_result"
    }
   ],
   "source": [
    "Random.get_random_bytes(32)"
   ]
  },
  {
   "cell_type": "code",
   "execution_count": null,
   "metadata": {
    "collapsed": true
   },
   "outputs": [],
   "source": []
  }
 ],
 "metadata": {
  "kernelspec": {
   "display_name": "Python 3",
   "language": "python",
   "name": "python3"
  },
  "language_info": {
   "codemirror_mode": {
    "name": "ipython",
    "version": 3
   },
   "file_extension": ".py",
   "mimetype": "text/x-python",
   "name": "python",
   "nbconvert_exporter": "python",
   "pygments_lexer": "ipython3",
   "version": "3.6.2"
  }
 },
 "nbformat": 4,
 "nbformat_minor": 2
}
